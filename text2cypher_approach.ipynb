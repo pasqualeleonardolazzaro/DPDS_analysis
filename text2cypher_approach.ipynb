{
 "cells": [
  {
   "cell_type": "code",
   "execution_count": 1,
   "metadata": {},
   "outputs": [],
   "source": [
    "#! pip install -q groq"
   ]
  },
  {
   "cell_type": "code",
   "execution_count": 2,
   "metadata": {},
   "outputs": [],
   "source": [
    "from groq import Groq\n",
    "from KEY import MY_GROQ_KEY\n",
    "\n",
    "client = Groq(api_key=MY_GROQ_KEY)"
   ]
  },
  {
   "cell_type": "code",
   "execution_count": 3,
   "metadata": {},
   "outputs": [],
   "source": [
    "#! pip install langchain\n",
    "#! pip install langchain_groq\n",
    "from langchain_core.prompts import ChatPromptTemplate\n",
    "from langchain_groq import ChatGroq\n",
    "\n",
    "chat = ChatGroq(temperature=0, groq_api_key=MY_GROQ_KEY, model_name=\"llama3-70b-8192\")"
   ]
  },
  {
   "cell_type": "markdown",
   "metadata": {},
   "source": [
    "## Connecting to neo4j + Query Generation"
   ]
  },
  {
   "cell_type": "code",
   "execution_count": 4,
   "metadata": {},
   "outputs": [],
   "source": [
    "#! pip install neo4j"
   ]
  },
  {
   "cell_type": "code",
   "execution_count": null,
   "metadata": {},
   "outputs": [],
   "source": [
    "from langchain_community.graphs import Neo4jGraph\n",
    "from langchain.chains import GraphCypherQAChain\n",
    "from langchain.prompts import PromptTemplate\n",
    "from langchain.chains.conversation.memory import ConversationBufferMemory\n",
    "\n",
    "graph = Neo4jGraph(\n",
    "    url=\"bolt://localhost:7687\",\n",
    "    username=\"neo4j\",\n",
    "    password=\"adminadmin\"\n",
    ")\n",
    "\n",
    "CYPHER_GENERATION_TEMPLATE = \"\"\"\n",
    "You are an expert Neo4j Developer translating user questions into Cypher to answer questions about data provenance.\n",
    "Convert the user's question based on the schema.\n",
    "\n",
    "Instructions:\n",
    "Use only the provided relationship types and properties in the schema.\n",
    "Do not use any other relationship types or properties that are not provided.\n",
    "\n",
    "If no data is returned, do not attempt to answer the question.\n",
    "Only respond to questions that require you to construct a Cypher statement.\n",
    "Do not include any explanations or apologies in your responses.\n",
    "\n",
    "Examples:\n",
    "#Find all the entities\n",
    "MATCH (n:Entity) RETURN n\n",
    "\n",
    "#Find all the activities\n",
    "MATCH (n:Activity) RETURN n\n",
    "\n",
    "#Count all communities using louvain on WAS_DERIVED_FROM\n",
    "CALL gds.graph.drop('proj', false)\n",
    "YIELD graphName AS droppedGraph\n",
    "WITH droppedGraph\n",
    "CALL gds.graph.project('proj', ['Activity'], {{ WAS_DERIVED_FROM:{{orientation:'NATURAL'}} }})\n",
    "YIELD graphName AS projectedGraph\n",
    "WITH projectedGraph\n",
    "CALL gds.louvain.mutate('proj', {{mutateProperty:'communityId'}})\n",
    "YIELD communityCount\n",
    "RETURN communityCount AS result\n",
    "\n",
    "\n",
    "\n",
    "\n",
    "\n",
    "\n",
    "Schema: {schema}\n",
    "Question: {question}\n",
    "\"\"\"\n",
    "\n",
    "cypher_generation_prompt = PromptTemplate(\n",
    "    template=CYPHER_GENERATION_TEMPLATE,\n",
    "    input_variables=[\"schema\", \"question\"]\n",
    ")\n",
    "\n",
    "\n",
    "cypher_chain = GraphCypherQAChain.from_llm(\n",
    "    llm=chat,\n",
    "    graph=graph,\n",
    "    cypher_prompt=cypher_generation_prompt,\n",
    "    verbose=True\n",
    ")\n",
    "\n",
    "print(graph.schema)\n",
    "\n",
    "test = True\n",
    "while test:\n",
    "    print(\"\\n\\n Insert your question or type 'exit' to quit:\")\n",
    "    q = input(\"> \")\n",
    "    if q == \"exit\":\n",
    "        test = False\n",
    "        break\n",
    "    response = cypher_chain.invoke({\"query\": q})\n",
    "    print(q)\n",
    "    print(response[\"result\"])"
   ]
  }
 ],
 "metadata": {
  "kernelspec": {
   "display_name": "Python 3",
   "language": "python",
   "name": "python3"
  },
  "language_info": {
   "codemirror_mode": {
    "name": "ipython",
    "version": 3
   },
   "file_extension": ".py",
   "mimetype": "text/x-python",
   "name": "python",
   "nbconvert_exporter": "python",
   "pygments_lexer": "ipython3",
   "version": "3.10.3"
  }
 },
 "nbformat": 4,
 "nbformat_minor": 2
}
